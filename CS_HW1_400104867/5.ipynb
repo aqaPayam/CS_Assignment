{
 "cells": [
  {
   "cell_type": "code",
   "execution_count": 1,
   "id": "45505929",
   "metadata": {},
   "outputs": [],
   "source": [
    "import random\n",
    "import matplotlib\n",
    "import numpy as np\n",
    "import matplotlib.pyplot as plt\n",
    "\n",
    "def generateNumberOfBread():\n",
    "    n = random.randint(1,100)\n",
    "    if n <= 50 :\n",
    "        return 1\n",
    "    if n <= 65:\n",
    "        return 2\n",
    "    if n <= 75:\n",
    "        return 3\n",
    "    return 4\n",
    "\n",
    "def generateNumberOfPeople():\n",
    "    n = random.randint(1,100)\n",
    "    if n <= 20 :\n",
    "        return 14\n",
    "    if n <= 48:\n",
    "        return 16\n",
    "    if n <= 78:\n",
    "        return 18\n",
    "    return 20\n",
    "\n",
    "def simulate(number_of_day):\n",
    "    res = []\n",
    "    for i in range(number_of_day):\n",
    "        daily = []\n",
    "        people = generateNumberOfPeople()\n",
    "        for j in range (people):\n",
    "            daily.append(generateNumberOfBread())\n",
    "        res.append({\"number of people\":people,\"daily report\":daily,\"number of bread sold\":sum(daily)})\n",
    "    return res\n",
    "\n",
    "def simulateResult(number_of_day):\n",
    "    res = simulate(number_of_day)\n",
    "    res2= []\n",
    "    for i in res:\n",
    "        res2.append(i[\"number of bread sold\"])\n",
    "    v = np.std(res2)\n",
    "    e = np.mean(res2)\n",
    "    return {\"number of day\":number_of_day,\"mean\":e,\"standard deviation\":v}\n",
    "\n",
    "\n"
   ]
  },
  {
   "cell_type": "code",
   "execution_count": 56,
   "id": "5ccd4a49",
   "metadata": {},
   "outputs": [
    {
     "data": {
      "image/png": "[encoded data removed]",
      "text/plain": [
       "<Figure size 640x480 with 1 Axes>"
      ]
     },
     "metadata": {},
     "output_type": "display_data"
    }
   ],
   "source": [
    "def simulateMoneyPerDay(number_of_bread_per_day,breadPrice,pokhtPrice):\n",
    "    daily = []\n",
    "    money = number_of_bread_per_day * -pokhtPrice\n",
    "    people = generateNumberOfPeople()\n",
    "    for j in range (people):\n",
    "        daily.append(generateNumberOfBread())\n",
    "    n = sum(daily)\n",
    "    if number_of_bread_per_day <= n :\n",
    "        money += breadPrice * number_of_bread_per_day\n",
    "    else:\n",
    "        money += breadPrice * n\n",
    "        money += (number_of_bread_per_day-n) * breadPrice / 2\n",
    "    return int(money)\n",
    "\n",
    "def simulateMoney(number_of_day,number_of_bread_per_day):\n",
    "    res = []\n",
    "    for i in range(number_of_day):\n",
    "        res.append({\"Money per day\":simulateMoneyPerDay(number_of_bread_per_day,2800,1600)})\n",
    "    return res\n",
    "\n",
    "def simulateMoneyAtAll(number_of_day,number_of_bread_per_day):\n",
    "    s = 0\n",
    "    for i in simulateMoney(number_of_day,number_of_bread_per_day):\n",
    "        s += i[\"Money per day\"]\n",
    "    return s/number_of_day\n",
    "\n",
    "\n",
    "def find_answer(number_of_day): ## az 0 ta 70 noon\n",
    "    best_ans=0\n",
    "    bestMoney = 0\n",
    "    for ans in range(70):\n",
    "        money = simulateMoneyAtAll(number_of_day,ans)\n",
    "        if money > bestMoney:\n",
    "            bestMoney = money\n",
    "            best_ans = ans\n",
    "    return best_ans\n",
    "       \n",
    "res = []\n",
    "for i in range(1000):\n",
    "    res.append(find_answer(10))\n",
    "\n",
    "plt.hist(res,bins=20)\n",
    "plt.show()"
   ]
  },
  {
   "cell_type": "code",
   "execution_count": null,
   "id": "f3088b23",
   "metadata": {},
   "outputs": [],
   "source": []
  }
 ],
 "metadata": {
  "kernelspec": {
   "display_name": "Python 3 (ipykernel)",
   "language": "python",
   "name": "python3"
  },
  "language_info": {
   "codemirror_mode": {
    "name": "ipython",
    "version": 3
   },
   "file_extension": ".py",
   "mimetype": "text/x-python",
   "name": "python",
   "nbconvert_exporter": "python",
   "pygments_lexer": "ipython3",
   "version": "3.9.13"
  }
 },
 "nbformat": 4,
 "nbformat_minor": 5
}
