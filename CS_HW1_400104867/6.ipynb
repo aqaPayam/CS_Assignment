{
 "cells": [
  {
   "cell_type": "code",
   "execution_count": 1,
   "id": "85b82e5d",
   "metadata": {},
   "outputs": [],
   "source": [
    "student_number = '400104867'\n",
    "Name = 'Payam'\n",
    "Last_Name = 'Taebi'"
   ]
  },
  {
   "cell_type": "code",
   "execution_count": 9,
   "id": "8e378d9b",
   "metadata": {},
   "outputs": [
    {
     "name": "stdout",
     "output_type": "stream",
     "text": [
      "we calculate pi in loop  1e+06 times\n",
      "estimated pi : 3.144552 and real pi is : 3.141593\n",
      "different is  0.002959346"
     ]
    }
   ],
   "source": [
    "# الف\n",
    "\n",
    "BigNum <- 1000000\n",
    "points <- 0\n",
    "\n",
    "\n",
    "for (i in 1: BigNum){\n",
    "    x <- runif(1,min =-1,max = 1)\n",
    "    y <- runif(1,min =-1,max = 1)\n",
    " \n",
    "    if (x**2 + y**2  <= 1){\n",
    "        points <- points + 1\n",
    "    }\n",
    "    }\n",
    "\n",
    "# points / BigNum  = Pi / 4\n",
    "myPi = 4 * points / BigNum\n",
    " \n",
    "\n",
    "cat(\"we calculate pi in loop \",BigNum,\"times\\n\")\n",
    "cat(\"estimated pi :\", myPi,\"and real pi is :\",pi)\n",
    "cat(\"\\n\")\n",
    "cat(\"different is \",abs(myPi - pi))"
   ]
  },
  {
   "cell_type": "code",
   "execution_count": 20,
   "id": "fac6b958",
   "metadata": {},
   "outputs": [
    {
     "name": "stdout",
     "output_type": "stream",
     "text": [
      "this time we calculate until [|myPi-pi|* 10000]== 0 and its take  1328  times\n",
      "estimated pi : 3.141566 and real pi is : 3.141593\n",
      "different is  2.638853e-05"
     ]
    }
   ],
   "source": [
    "# الف\n",
    "\n",
    "allPoints <- 0\n",
    "targetPoints <- 0\n",
    "myPi <- 0\n",
    "result <- 0\n",
    "\n",
    "while ( floor(abs(myPi-pi)* 10000)!= 0 ){\n",
    "    x <- runif(1,min =-1,max = 1)\n",
    "    y <- runif(1,min =-1,max = 1)\n",
    " \n",
    "    if (x**2 + y**2  <= 1){\n",
    "        targetPoints <- targetPoints + 1\n",
    "    }\n",
    "    \n",
    "    allPoints = allPoints +1\n",
    "    myPi = 4 * targetPoints / allPoints\n",
    "    result[allPoints] = myPi\n",
    "    }\n",
    "    \n",
    " \n",
    "cat(\"this time we calculate until [|myPi-pi|* 10000]== 0 and its take \",allPoints,\" times\\n\")\n",
    "cat(\"estimated pi :\", myPi,\"and real pi is :\",pi)\n",
    "cat(\"\\n\")\n",
    "cat(\"different is \",abs(myPi - pi))"
   ]
  },
  {
   "cell_type": "code",
   "execution_count": 24,
   "id": "8005a2a7",
   "metadata": {},
   "outputs": [
    {
     "data": {
      "image/png": "[encoded data removed]",
      "text/plain": [
       "plot without title"
      ]
     },
     "metadata": {
      "image/png": {
       "height": 420,
       "width": 420
      }
     },
     "output_type": "display_data"
    }
   ],
   "source": [
    "plot(result,type=\"l\",col = 'blue')"
   ]
  },
  {
   "cell_type": "code",
   "execution_count": 40,
   "id": "7eff68ee",
   "metadata": {
    "scrolled": true
   },
   "outputs": [
    {
     "name": "stdout",
     "output_type": "stream",
     "text": [
      "this time we calculate  1328 times and repeat it 2 times to show it doeas NOT converge to real Pi \n",
      "first : we calculate pi in loop  1328 times\n",
      "estimated pi : 3.123494 and real pi is : 3.141593\n",
      "different is  0.01809868 \n",
      "second : we calculate pi in loop  1328 times\n",
      "estimated pi : 3.144578 and real pi is : 3.141593\n",
      "different is  0.00298566\n",
      "\n",
      "This experiment shows that if a test is answered by  1328  points, we may need more or less in the next time, and we cannot say how much we have converged after adding a new point.\n",
      "In other words, if we Run the second part of the code (Calculate Pi number up to 4 decimal places) many times the result is different each time and i guess it come from Normal Distribution\n"
     ]
    }
   ],
   "source": [
    "#پ\n",
    "\n",
    "BigNum <- allPoints\n",
    "points <- 0\n",
    "\n",
    "\n",
    "for (i in 1: BigNum){\n",
    "    x <- runif(1,min =-1,max = 1)\n",
    "    y <- runif(1,min =-1,max = 1)\n",
    " \n",
    "    if (x**2 + y**2  <= 1){\n",
    "        points <- points + 1\n",
    "    }\n",
    "    }\n",
    "\n",
    "# points / BigNum  = Pi / 4\n",
    "myPi = 4 * points / BigNum\n",
    " \n",
    "cat(\"this time we calculate \",BigNum,\"times and repeat it 2 times to show it doeas NOT converge to real Pi \\n\")\n",
    "cat(\"first : we calculate pi in loop \",BigNum,\"times\\n\")\n",
    "cat(\"estimated pi :\", myPi,\"and real pi is :\",pi)\n",
    "cat(\"\\n\")\n",
    "cat(\"different is \",abs(myPi - pi),\"\\n\")\n",
    "\n",
    "BigNum <- allPoints\n",
    "points <- 0\n",
    "\n",
    "\n",
    "for (i in 1: BigNum){\n",
    "    x <- runif(1,min =-1,max = 1)\n",
    "    y <- runif(1,min =-1,max = 1)\n",
    " \n",
    "    if (x**2 + y**2  <= 1){\n",
    "        points <- points + 1\n",
    "    }\n",
    "    }\n",
    "\n",
    "# points / BigNum  = Pi / 4\n",
    "myPi = 4 * points / BigNum\n",
    " \n",
    "\n",
    "cat(\"second : we calculate pi in loop \",BigNum,\"times\\n\")\n",
    "cat(\"estimated pi :\", myPi,\"and real pi is :\",pi)\n",
    "cat(\"\\n\")\n",
    "cat(\"different is \",abs(myPi - pi))\n",
    "cat(\"\\n\\nThis experiment shows that if a test is answered by \",allPoints,\" points, we may need more or less in the next time, and we cannot say how much we have converged after adding a new point.\n",
    "In other words, if we Run the second part of the code (Calculate Pi number up to 4 decimal places) many times the result is different each time and i guess it come from Normal Distribution\n",
    "\")"
   ]
  },
  {
   "cell_type": "code",
   "execution_count": 13,
   "id": "810875a6",
   "metadata": {},
   "outputs": [
    {
     "name": "stdout",
     "output_type": "stream",
     "text": [
      "its take  1328  times\n",
      "estimated pi : 3.153614 and real pi is : 3.141593\n",
      "different is  0.0120218\n",
      "its take  1328  times\n",
      "estimated pi : 3.228916 and real pi is : 3.141593\n",
      "different is  0.08732301"
     ]
    },
    {
     "data": {
      "image/png": "[encoded data removed]",
      "text/plain": [
       "plot without title"
      ]
     },
     "metadata": {
      "image/png": {
       "height": 420,
       "width": 420
      }
     },
     "output_type": "display_data"
    },
    {
     "data": {
      "image/png": "[encoded data removed]",
      "text/plain": [
       "plot without title"
      ]
     },
     "metadata": {
      "image/png": {
       "height": 420,
       "width": 420
      }
     },
     "output_type": "display_data"
    }
   ],
   "source": [
    "#پ\n",
    "\n",
    "allPoints <- 0\n",
    "targetPoints <- 0\n",
    "myPi <- 0\n",
    "result <- 0\n",
    "\n",
    "while ( allPoints <= 1327 ){\n",
    "    x <- runif(1,min =-1,max = 1)\n",
    "    y <- runif(1,min =-1,max = 1)\n",
    " \n",
    "    if (x**2 + y**2  <= 1){\n",
    "        targetPoints <- targetPoints + 1\n",
    "    }\n",
    "    \n",
    "    allPoints = allPoints +1\n",
    "    myPi = 4 * targetPoints / allPoints\n",
    "    result[allPoints] = myPi\n",
    "    }\n",
    "    \n",
    " \n",
    "cat(\"its take \",allPoints,\" times\\n\")\n",
    "cat(\"estimated pi :\", myPi,\"and real pi is :\",pi)\n",
    "cat(\"\\n\")\n",
    "cat(\"different is \",abs(myPi - pi))\n",
    "plot(result,type=\"l\",col = 'blue')\n",
    "\n",
    "allPoints <- 0\n",
    "targetPoints <- 0\n",
    "myPi <- 0\n",
    "result <- 0\n",
    "\n",
    "while ( allPoints <= 1327 ){\n",
    "    x <- runif(1,min =-1,max = 1)\n",
    "    y <- runif(1,min =-1,max = 1)\n",
    " \n",
    "    if (x**2 + y**2  <= 1){\n",
    "        targetPoints <- targetPoints + 1\n",
    "    }\n",
    "    \n",
    "    allPoints = allPoints +1\n",
    "    myPi = 4 * targetPoints / allPoints\n",
    "    result[allPoints] = myPi\n",
    "    }\n",
    "    \n",
    " \n",
    "cat(\"\\nits take \",allPoints,\" times\\n\")\n",
    "cat(\"estimated pi :\", myPi,\"and real pi is :\",pi)\n",
    "cat(\"\\n\")\n",
    "cat(\"different is \",abs(myPi - pi))\n",
    "plot(result,type=\"l\",col = 'blue')"
   ]
  },
  {
   "cell_type": "code",
   "execution_count": 24,
   "id": "fcaa3458",
   "metadata": {},
   "outputs": [
    {
     "name": "stdout",
     "output_type": "stream",
     "text": [
      "we calculate pi in loop  1e+05 times like befor from uniform dist\n",
      "estimated pi : 3.13872 and real pi is : 3.141593\n",
      "different is  0.002872654\n",
      "we calculate pi in loop  1e+05 times But this time from N(0,0.57)\n",
      "estimated pi : 3.14328 and real pi is : 3.141593\n",
      "different is  0.001687346"
     ]
    }
   ],
   "source": [
    "#ت\n",
    "\n",
    "BigNum <- 100000\n",
    "points <- 0\n",
    "\n",
    "\n",
    "for (i in 1: BigNum){\n",
    "    x <- runif(1,min =-1,max = 1)\n",
    "    y <- runif(1,min =-1,max = 1)\n",
    " \n",
    "    if (x**2 + y**2  <= 1){\n",
    "        points <- points + 1\n",
    "    }\n",
    "    }\n",
    "\n",
    "# points / BigNum  = Pi / 4\n",
    "myPi = 4 * points / BigNum\n",
    " \n",
    "\n",
    "cat(\"we calculate pi in loop \",BigNum,\"times like befor from uniform dist\\n\")\n",
    "cat(\"estimated pi :\", myPi,\"and real pi is :\",pi)\n",
    "cat(\"\\n\")\n",
    "cat(\"different is \",abs(myPi - pi))\n",
    "\n",
    "BigNum <- 100000\n",
    "points <- 0\n",
    "\n",
    "\n",
    "for (i in 1: BigNum){\n",
    "    x <- rnorm(1,0,0.57)\n",
    "    y <- rnorm(1,0,0.57)\n",
    " \n",
    "    if (x**2 + y**2  <= 1){\n",
    "        points <- points + 1\n",
    "    }\n",
    "    }\n",
    "\n",
    "# points / BigNum  = Pi / 4\n",
    "myPi = 4 * points / BigNum\n",
    " \n",
    "\n",
    "cat(\"\\nwe calculate pi in loop \",BigNum,\"times But this time from N(0,0.57)\\n\")\n",
    "cat(\"estimated pi :\", myPi,\"and real pi is :\",pi)\n",
    "cat(\"\\n\")\n",
    "cat(\"different is \",abs(myPi - pi))"
   ]
  },
  {
   "cell_type": "code",
   "execution_count": 8,
   "id": "97d7b2a7",
   "metadata": {},
   "outputs": [
    {
     "name": "stdout",
     "output_type": "stream",
     "text": [
      "Area of 5x^2 + 5y^2 -6xy - 32 = 0 with  1e+05 generates is  25.30116 \n",
      "and we know the real answer is 8 * Pi wich means 25.13274 and error is  0.1684151"
     ]
    }
   ],
   "source": [
    "#ث\n",
    "\n",
    "BigNum <- 100000\n",
    "points <- 0\n",
    "\n",
    "\n",
    "for (i in 1: BigNum){\n",
    "    x <- runif(1,min =-3.162,max = 3.162)\n",
    "    y <- runif(1,min =-3.162,max = 3.162)\n",
    " \n",
    "    if (5 * x**2 + 5 * y**2 - 6 * x * y - 32  <= 0){\n",
    "        points <- points + 1\n",
    "    }\n",
    "    }\n",
    "\n",
    "# points / BigNum  = ? / 6.324 * 6.324\n",
    "result = 6.324 * 6.324 * points / BigNum\n",
    " \n",
    "\n",
    "cat(\"Area of 5x^2 + 5y^2 -6xy - 32 = 0 with \",BigNum,\"generates is \",result,\"\\n\")\n",
    "cat(\"and we know the real answer is 8 * Pi wich means\",8 * pi,\"and error is \",abs(8 * pi - result))\n"
   ]
  },
  {
   "cell_type": "code",
   "execution_count": 4,
   "id": "028dcd9a",
   "metadata": {},
   "outputs": [
    {
     "data": {
      "image/png": "[encoded data removed]",
      "text/plain": [
       "plot without title"
      ]
     },
     "metadata": {
      "image/png": {
       "height": 420,
       "width": 420
      }
     },
     "output_type": "display_data"
    }
   ],
   "source": [
    "#ث\n",
    "\n",
    "BigNum <- 100000\n",
    "points <- 0\n",
    "result <- 0 \n",
    "\n",
    "for (i in 1: BigNum){\n",
    "    x <- runif(1,min =-3.162,max = 3.162)\n",
    "    y <- runif(1,min =-3.162,max = 3.162)\n",
    " \n",
    "    if (5 * x**2 + 5 * y**2 - 6 * x * y - 32  <= 0){\n",
    "        points <- points + 1\n",
    "    }\n",
    "     result[i] = (6.324 * 6.324 * points / i+1)\n",
    "    }\n",
    "\n",
    "plot(result,type=\"l\",col = 'blue')\n",
    "#nemoodar hamgraei baraye n = 100000"
   ]
  },
  {
   "cell_type": "code",
   "execution_count": 9,
   "id": "8af9a2b6",
   "metadata": {},
   "outputs": [
    {
     "name": "stdout",
     "output_type": "stream",
     "text": [
      "this time we calculate until [|S-Real S|* 1000]== 0 and its take  218  times\n",
      "estimated S : 25.1332 and real S is : 25.13274\n",
      "different is  0.000459285"
     ]
    },
    {
     "data": {
      "image/png": "[encoded data removed]",
      "text/plain": [
       "plot without title"
      ]
     },
     "metadata": {
      "image/png": {
       "height": 420,
       "width": 420
      }
     },
     "output_type": "display_data"
    }
   ],
   "source": [
    "#ث\n",
    "\n",
    "allPoints <- 0\n",
    "points <- 0\n",
    "result <- 0 \n",
    "S <- 0\n",
    "\n",
    "\n",
    "while ( floor(abs(S- 8 * pi)* 1000)!= 0 ){\n",
    "    x <- runif(1,min =-3.162,max = 3.162)\n",
    "    y <- runif(1,min =-3.162,max = 3.162)\n",
    " \n",
    "    if (5 * x**2 + 5 * y**2 - 6 * x * y - 32  <= 0){\n",
    "        points <- points + 1\n",
    "    }\n",
    "    \n",
    "    allPoints = allPoints +1\n",
    "    S = (6.324 * 6.324 * points / allPoints)\n",
    "    result[allPoints] = S\n",
    "    }\n",
    "    \n",
    " \n",
    "cat(\"this time we calculate until [|S-Real S|* 1000]== 0 and its take \",allPoints,\" times\\n\")\n",
    "cat(\"estimated S :\", S,\"and real S is :\",8*pi)\n",
    "cat(\"\\n\")\n",
    "cat(\"different is \",abs(S - 8*pi))\n",
    "plot(result,type=\"l\",col = 'blue')"
   ]
  },
  {
   "cell_type": "code",
   "execution_count": null,
   "id": "ca076ec5",
   "metadata": {},
   "outputs": [],
   "source": []
  }
 ],
 "metadata": {
  "kernelspec": {
   "display_name": "R",
   "language": "R",
   "name": "ir"
  },
  "language_info": {
   "codemirror_mode": "r",
   "file_extension": ".r",
   "mimetype": "text/x-r-source",
   "name": "R",
   "pygments_lexer": "r",
   "version": "4.2.2"
  }
 },
 "nbformat": 4,
 "nbformat_minor": 5
}
