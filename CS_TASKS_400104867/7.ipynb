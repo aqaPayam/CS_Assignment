{
 "cells": [
  {
   "cell_type": "code",
   "execution_count": 7,
   "id": "350219e4",
   "metadata": {},
   "outputs": [],
   "source": [
    "#HOME TASK 7"
   ]
  },
  {
   "cell_type": "code",
   "execution_count": 8,
   "id": "9fde18e4",
   "metadata": {},
   "outputs": [],
   "source": [
    "import numpy as np"
   ]
  },
  {
   "cell_type": "code",
   "execution_count": 9,
   "id": "ca141857",
   "metadata": {},
   "outputs": [],
   "source": [
    "ITERATIONS = 1000000\n",
    "transition = np.array([[0.3,0.2,0.5],[0.4,0.3,0.3],[0.3,0.4,0.3]])"
   ]
  },
  {
   "cell_type": "code",
   "execution_count": 10,
   "id": "075c60de",
   "metadata": {},
   "outputs": [],
   "source": [
    "def Run(itr, p, trans):\n",
    "    x = p\n",
    "    for i in range(itr):\n",
    "        x = np.matmul(x,trans)\n",
    "    return x"
   ]
  },
  {
   "cell_type": "code",
   "execution_count": 13,
   "id": "25856cb0",
   "metadata": {},
   "outputs": [
    {
     "name": "stdout",
     "output_type": "stream",
     "text": [
      "P is :  [0.33035714 0.30357143 0.36607143]\n",
      "P is :  [0.33035714 0.30357143 0.36607143]\n",
      "P is :  [0.33035714 0.30357143 0.36607143]\n"
     ]
    }
   ],
   "source": [
    "print(\"P is : \",Run(ITERATIONS,[0,0,1],transition))\n",
    "print(\"P is : \",Run(ITERATIONS,[0,1,0],transition))\n",
    "print(\"P is : \",Run(ITERATIONS,[1,0,0],transition))"
   ]
  },
  {
   "cell_type": "code",
   "execution_count": null,
   "id": "8bbc933f",
   "metadata": {},
   "outputs": [],
   "source": []
  }
 ],
 "metadata": {
  "kernelspec": {
   "display_name": "Python 3 (ipykernel)",
   "language": "python",
   "name": "python3"
  },
  "language_info": {
   "codemirror_mode": {
    "name": "ipython",
    "version": 3
   },
   "file_extension": ".py",
   "mimetype": "text/x-python",
   "name": "python",
   "nbconvert_exporter": "python",
   "pygments_lexer": "ipython3",
   "version": "3.9.13"
  }
 },
 "nbformat": 4,
 "nbformat_minor": 5
}
